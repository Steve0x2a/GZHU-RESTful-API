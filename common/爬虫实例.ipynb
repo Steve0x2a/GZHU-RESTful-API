{
 "cells": [
  {
   "cell_type": "markdown",
   "metadata": {},
   "source": [
    "# 导入相应的库"
   ]
  },
  {
   "cell_type": "code",
   "execution_count": 12,
   "metadata": {
    "collapsed": true
   },
   "outputs": [],
   "source": [
    "import requests\n",
    "from bs4 import BeautifulSoup\n",
    "import json"
   ]
  },
  {
   "cell_type": "markdown",
   "metadata": {},
   "source": [
    "# requests库无参数get示例"
   ]
  },
  {
   "cell_type": "code",
   "execution_count": 14,
   "metadata": {},
   "outputs": [
    {
     "data": {
      "text/plain": [
       "{'args': {},\n",
       " 'headers': {'Accept': '*/*',\n",
       "  'Accept-Encoding': 'gzip, deflate',\n",
       "  'Connection': 'close',\n",
       "  'Host': 'httpbin.org',\n",
       "  'User-Agent': 'python-requests/2.18.4'},\n",
       " 'origin': '14.28.12.23',\n",
       " 'url': 'http://httpbin.org/get'}"
      ]
     },
     "execution_count": 14,
     "metadata": {},
     "output_type": "execute_result"
    }
   ],
   "source": [
    "text = requests.get(\"http://httpbin.org/get\").text\n",
    "json.loads(text)"
   ]
  },
  {
   "cell_type": "markdown",
   "metadata": {},
   "source": [
    "# requests库有参数get示例"
   ]
  },
  {
   "cell_type": "code",
   "execution_count": 16,
   "metadata": {},
   "outputs": [
    {
     "data": {
      "text/plain": [
       "'{\\n  \"args\": {\\n    \"key1\": \"value1\", \\n    \"key2\": \"value2\"\\n  }, \\n  \"headers\": {\\n    \"Accept\": \"*/*\", \\n    \"Accept-Encoding\": \"gzip, deflate\", \\n    \"Connection\": \"close\", \\n    \"Host\": \"httpbin.org\", \\n    \"User-Agent\": \"python-requests/2.18.4\"\\n  }, \\n  \"origin\": \"14.28.12.23\", \\n  \"url\": \"http://httpbin.org/get?key1=value1&key2=value2\"\\n}\\n'"
      ]
     },
     "execution_count": 16,
     "metadata": {},
     "output_type": "execute_result"
    }
   ],
   "source": [
    "payload = {'key1': 'value1', 'key2': 'value2'}\n",
    "gettext = requests.get(\"http://httpbin.org/get\",params=payload).text\n",
    "gettext"
   ]
  },
  {
   "cell_type": "markdown",
   "metadata": {},
   "source": [
    "# requests库post请求示例"
   ]
  },
  {
   "cell_type": "code",
   "execution_count": 17,
   "metadata": {},
   "outputs": [
    {
     "data": {
      "text/plain": [
       "{'args': {},\n",
       " 'data': '',\n",
       " 'files': {},\n",
       " 'form': {'a': '123', 'b': '12345'},\n",
       " 'headers': {'Accept': '*/*',\n",
       "  'Accept-Encoding': 'gzip, deflate',\n",
       "  'Connection': 'close',\n",
       "  'Content-Length': '13',\n",
       "  'Content-Type': 'application/x-www-form-urlencoded',\n",
       "  'Host': 'httpbin.org',\n",
       "  'User-Agent': 'python-requests/2.18.4'},\n",
       " 'json': None,\n",
       " 'origin': '14.28.12.23',\n",
       " 'url': 'http://httpbin.org/post'}"
      ]
     },
     "execution_count": 17,
     "metadata": {},
     "output_type": "execute_result"
    }
   ],
   "source": [
    "data = {'a':'123','b':'12345'}\n",
    "post = requests.post(\"http://httpbin.org/post\",data=data).text\n",
    "json.loads(post)"
   ]
  },
  {
   "cell_type": "markdown",
   "metadata": {},
   "source": [
    "# requests库headers使用示例"
   ]
  },
  {
   "cell_type": "code",
   "execution_count": 18,
   "metadata": {},
   "outputs": [
    {
     "data": {
      "text/plain": [
       "{'args': {},\n",
       " 'headers': {'Accept': '*/*',\n",
       "  'Accept-Encoding': 'gzip, deflate',\n",
       "  'Connection': 'close',\n",
       "  'Host': 'httpbin.org',\n",
       "  'Refer': 'http://baidu.com',\n",
       "  'User-Agent': 'python is your father'},\n",
       " 'origin': '14.28.12.23',\n",
       " 'url': 'http://httpbin.org/get'}"
      ]
     },
     "execution_count": 18,
     "metadata": {},
     "output_type": "execute_result"
    }
   ],
   "source": [
    "headers = {'user-agent':'python is your father','refer':'http://baidu.com'}\n",
    "headerstext =  requests.get(\"http://httpbin.org/get\",headers=headers).text\n",
    "json.loads(headerstext)"
   ]
  },
  {
   "cell_type": "markdown",
   "metadata": {},
   "source": [
    "# requests库 timeout使用示例"
   ]
  },
  {
   "cell_type": "code",
   "execution_count": 20,
   "metadata": {},
   "outputs": [
    {
     "ename": "KeyboardInterrupt",
     "evalue": "",
     "output_type": "error",
     "traceback": [
      "\u001b[0;31m---------------------------------------------------------------------------\u001b[0m",
      "\u001b[0;31mKeyboardInterrupt\u001b[0m                         Traceback (most recent call last)",
      "\u001b[0;32m<ipython-input-20-903acc936b5e>\u001b[0m in \u001b[0;36m<module>\u001b[0;34m()\u001b[0m\n\u001b[0;32m----> 1\u001b[0;31m \u001b[0mrequests\u001b[0m\u001b[0;34m.\u001b[0m\u001b[0mget\u001b[0m\u001b[0;34m(\u001b[0m\u001b[0;34m'http://google.com'\u001b[0m\u001b[0;34m)\u001b[0m\u001b[0;34m\u001b[0m\u001b[0m\n\u001b[0m",
      "\u001b[0;32m~/anaconda3/lib/python3.6/site-packages/requests/api.py\u001b[0m in \u001b[0;36mget\u001b[0;34m(url, params, **kwargs)\u001b[0m\n\u001b[1;32m     70\u001b[0m \u001b[0;34m\u001b[0m\u001b[0m\n\u001b[1;32m     71\u001b[0m     \u001b[0mkwargs\u001b[0m\u001b[0;34m.\u001b[0m\u001b[0msetdefault\u001b[0m\u001b[0;34m(\u001b[0m\u001b[0;34m'allow_redirects'\u001b[0m\u001b[0;34m,\u001b[0m \u001b[0;32mTrue\u001b[0m\u001b[0;34m)\u001b[0m\u001b[0;34m\u001b[0m\u001b[0m\n\u001b[0;32m---> 72\u001b[0;31m     \u001b[0;32mreturn\u001b[0m \u001b[0mrequest\u001b[0m\u001b[0;34m(\u001b[0m\u001b[0;34m'get'\u001b[0m\u001b[0;34m,\u001b[0m \u001b[0murl\u001b[0m\u001b[0;34m,\u001b[0m \u001b[0mparams\u001b[0m\u001b[0;34m=\u001b[0m\u001b[0mparams\u001b[0m\u001b[0;34m,\u001b[0m \u001b[0;34m**\u001b[0m\u001b[0mkwargs\u001b[0m\u001b[0;34m)\u001b[0m\u001b[0;34m\u001b[0m\u001b[0m\n\u001b[0m\u001b[1;32m     73\u001b[0m \u001b[0;34m\u001b[0m\u001b[0m\n\u001b[1;32m     74\u001b[0m \u001b[0;34m\u001b[0m\u001b[0m\n",
      "\u001b[0;32m~/anaconda3/lib/python3.6/site-packages/requests/api.py\u001b[0m in \u001b[0;36mrequest\u001b[0;34m(method, url, **kwargs)\u001b[0m\n\u001b[1;32m     56\u001b[0m     \u001b[0;31m# cases, and look like a memory leak in others.\u001b[0m\u001b[0;34m\u001b[0m\u001b[0;34m\u001b[0m\u001b[0m\n\u001b[1;32m     57\u001b[0m     \u001b[0;32mwith\u001b[0m \u001b[0msessions\u001b[0m\u001b[0;34m.\u001b[0m\u001b[0mSession\u001b[0m\u001b[0;34m(\u001b[0m\u001b[0;34m)\u001b[0m \u001b[0;32mas\u001b[0m \u001b[0msession\u001b[0m\u001b[0;34m:\u001b[0m\u001b[0;34m\u001b[0m\u001b[0m\n\u001b[0;32m---> 58\u001b[0;31m         \u001b[0;32mreturn\u001b[0m \u001b[0msession\u001b[0m\u001b[0;34m.\u001b[0m\u001b[0mrequest\u001b[0m\u001b[0;34m(\u001b[0m\u001b[0mmethod\u001b[0m\u001b[0;34m=\u001b[0m\u001b[0mmethod\u001b[0m\u001b[0;34m,\u001b[0m \u001b[0murl\u001b[0m\u001b[0;34m=\u001b[0m\u001b[0murl\u001b[0m\u001b[0;34m,\u001b[0m \u001b[0;34m**\u001b[0m\u001b[0mkwargs\u001b[0m\u001b[0;34m)\u001b[0m\u001b[0;34m\u001b[0m\u001b[0m\n\u001b[0m\u001b[1;32m     59\u001b[0m \u001b[0;34m\u001b[0m\u001b[0m\n\u001b[1;32m     60\u001b[0m \u001b[0;34m\u001b[0m\u001b[0m\n",
      "\u001b[0;32m~/anaconda3/lib/python3.6/site-packages/requests/sessions.py\u001b[0m in \u001b[0;36mrequest\u001b[0;34m(self, method, url, params, data, headers, cookies, files, auth, timeout, allow_redirects, proxies, hooks, stream, verify, cert, json)\u001b[0m\n\u001b[1;32m    506\u001b[0m         }\n\u001b[1;32m    507\u001b[0m         \u001b[0msend_kwargs\u001b[0m\u001b[0;34m.\u001b[0m\u001b[0mupdate\u001b[0m\u001b[0;34m(\u001b[0m\u001b[0msettings\u001b[0m\u001b[0;34m)\u001b[0m\u001b[0;34m\u001b[0m\u001b[0m\n\u001b[0;32m--> 508\u001b[0;31m         \u001b[0mresp\u001b[0m \u001b[0;34m=\u001b[0m \u001b[0mself\u001b[0m\u001b[0;34m.\u001b[0m\u001b[0msend\u001b[0m\u001b[0;34m(\u001b[0m\u001b[0mprep\u001b[0m\u001b[0;34m,\u001b[0m \u001b[0;34m**\u001b[0m\u001b[0msend_kwargs\u001b[0m\u001b[0;34m)\u001b[0m\u001b[0;34m\u001b[0m\u001b[0m\n\u001b[0m\u001b[1;32m    509\u001b[0m \u001b[0;34m\u001b[0m\u001b[0m\n\u001b[1;32m    510\u001b[0m         \u001b[0;32mreturn\u001b[0m \u001b[0mresp\u001b[0m\u001b[0;34m\u001b[0m\u001b[0m\n",
      "\u001b[0;32m~/anaconda3/lib/python3.6/site-packages/requests/sessions.py\u001b[0m in \u001b[0;36msend\u001b[0;34m(self, request, **kwargs)\u001b[0m\n\u001b[1;32m    616\u001b[0m \u001b[0;34m\u001b[0m\u001b[0m\n\u001b[1;32m    617\u001b[0m         \u001b[0;31m# Send the request\u001b[0m\u001b[0;34m\u001b[0m\u001b[0;34m\u001b[0m\u001b[0m\n\u001b[0;32m--> 618\u001b[0;31m         \u001b[0mr\u001b[0m \u001b[0;34m=\u001b[0m \u001b[0madapter\u001b[0m\u001b[0;34m.\u001b[0m\u001b[0msend\u001b[0m\u001b[0;34m(\u001b[0m\u001b[0mrequest\u001b[0m\u001b[0;34m,\u001b[0m \u001b[0;34m**\u001b[0m\u001b[0mkwargs\u001b[0m\u001b[0;34m)\u001b[0m\u001b[0;34m\u001b[0m\u001b[0m\n\u001b[0m\u001b[1;32m    619\u001b[0m \u001b[0;34m\u001b[0m\u001b[0m\n\u001b[1;32m    620\u001b[0m         \u001b[0;31m# Total elapsed time of the request (approximately)\u001b[0m\u001b[0;34m\u001b[0m\u001b[0;34m\u001b[0m\u001b[0m\n",
      "\u001b[0;32m~/anaconda3/lib/python3.6/site-packages/requests/adapters.py\u001b[0m in \u001b[0;36msend\u001b[0;34m(self, request, stream, timeout, verify, cert, proxies)\u001b[0m\n\u001b[1;32m    438\u001b[0m                     \u001b[0mdecode_content\u001b[0m\u001b[0;34m=\u001b[0m\u001b[0;32mFalse\u001b[0m\u001b[0;34m,\u001b[0m\u001b[0;34m\u001b[0m\u001b[0m\n\u001b[1;32m    439\u001b[0m                     \u001b[0mretries\u001b[0m\u001b[0;34m=\u001b[0m\u001b[0mself\u001b[0m\u001b[0;34m.\u001b[0m\u001b[0mmax_retries\u001b[0m\u001b[0;34m,\u001b[0m\u001b[0;34m\u001b[0m\u001b[0m\n\u001b[0;32m--> 440\u001b[0;31m                     \u001b[0mtimeout\u001b[0m\u001b[0;34m=\u001b[0m\u001b[0mtimeout\u001b[0m\u001b[0;34m\u001b[0m\u001b[0m\n\u001b[0m\u001b[1;32m    441\u001b[0m                 )\n\u001b[1;32m    442\u001b[0m \u001b[0;34m\u001b[0m\u001b[0m\n",
      "\u001b[0;32m~/anaconda3/lib/python3.6/site-packages/urllib3/connectionpool.py\u001b[0m in \u001b[0;36murlopen\u001b[0;34m(self, method, url, body, headers, retries, redirect, assert_same_host, timeout, pool_timeout, release_conn, chunked, body_pos, **response_kw)\u001b[0m\n\u001b[1;32m    599\u001b[0m                                                   \u001b[0mtimeout\u001b[0m\u001b[0;34m=\u001b[0m\u001b[0mtimeout_obj\u001b[0m\u001b[0;34m,\u001b[0m\u001b[0;34m\u001b[0m\u001b[0m\n\u001b[1;32m    600\u001b[0m                                                   \u001b[0mbody\u001b[0m\u001b[0;34m=\u001b[0m\u001b[0mbody\u001b[0m\u001b[0;34m,\u001b[0m \u001b[0mheaders\u001b[0m\u001b[0;34m=\u001b[0m\u001b[0mheaders\u001b[0m\u001b[0;34m,\u001b[0m\u001b[0;34m\u001b[0m\u001b[0m\n\u001b[0;32m--> 601\u001b[0;31m                                                   chunked=chunked)\n\u001b[0m\u001b[1;32m    602\u001b[0m \u001b[0;34m\u001b[0m\u001b[0m\n\u001b[1;32m    603\u001b[0m             \u001b[0;31m# If we're going to release the connection in ``finally:``, then\u001b[0m\u001b[0;34m\u001b[0m\u001b[0;34m\u001b[0m\u001b[0m\n",
      "\u001b[0;32m~/anaconda3/lib/python3.6/site-packages/urllib3/connectionpool.py\u001b[0m in \u001b[0;36m_make_request\u001b[0;34m(self, conn, method, url, timeout, chunked, **httplib_request_kw)\u001b[0m\n\u001b[1;32m    355\u001b[0m             \u001b[0mconn\u001b[0m\u001b[0;34m.\u001b[0m\u001b[0mrequest_chunked\u001b[0m\u001b[0;34m(\u001b[0m\u001b[0mmethod\u001b[0m\u001b[0;34m,\u001b[0m \u001b[0murl\u001b[0m\u001b[0;34m,\u001b[0m \u001b[0;34m**\u001b[0m\u001b[0mhttplib_request_kw\u001b[0m\u001b[0;34m)\u001b[0m\u001b[0;34m\u001b[0m\u001b[0m\n\u001b[1;32m    356\u001b[0m         \u001b[0;32melse\u001b[0m\u001b[0;34m:\u001b[0m\u001b[0;34m\u001b[0m\u001b[0m\n\u001b[0;32m--> 357\u001b[0;31m             \u001b[0mconn\u001b[0m\u001b[0;34m.\u001b[0m\u001b[0mrequest\u001b[0m\u001b[0;34m(\u001b[0m\u001b[0mmethod\u001b[0m\u001b[0;34m,\u001b[0m \u001b[0murl\u001b[0m\u001b[0;34m,\u001b[0m \u001b[0;34m**\u001b[0m\u001b[0mhttplib_request_kw\u001b[0m\u001b[0;34m)\u001b[0m\u001b[0;34m\u001b[0m\u001b[0m\n\u001b[0m\u001b[1;32m    358\u001b[0m \u001b[0;34m\u001b[0m\u001b[0m\n\u001b[1;32m    359\u001b[0m         \u001b[0;31m# Reset the timeout for the recv() on the socket\u001b[0m\u001b[0;34m\u001b[0m\u001b[0;34m\u001b[0m\u001b[0m\n",
      "\u001b[0;32m~/anaconda3/lib/python3.6/http/client.py\u001b[0m in \u001b[0;36mrequest\u001b[0;34m(self, method, url, body, headers, encode_chunked)\u001b[0m\n\u001b[1;32m   1237\u001b[0m                 encode_chunked=False):\n\u001b[1;32m   1238\u001b[0m         \u001b[0;34m\"\"\"Send a complete request to the server.\"\"\"\u001b[0m\u001b[0;34m\u001b[0m\u001b[0m\n\u001b[0;32m-> 1239\u001b[0;31m         \u001b[0mself\u001b[0m\u001b[0;34m.\u001b[0m\u001b[0m_send_request\u001b[0m\u001b[0;34m(\u001b[0m\u001b[0mmethod\u001b[0m\u001b[0;34m,\u001b[0m \u001b[0murl\u001b[0m\u001b[0;34m,\u001b[0m \u001b[0mbody\u001b[0m\u001b[0;34m,\u001b[0m \u001b[0mheaders\u001b[0m\u001b[0;34m,\u001b[0m \u001b[0mencode_chunked\u001b[0m\u001b[0;34m)\u001b[0m\u001b[0;34m\u001b[0m\u001b[0m\n\u001b[0m\u001b[1;32m   1240\u001b[0m \u001b[0;34m\u001b[0m\u001b[0m\n\u001b[1;32m   1241\u001b[0m     \u001b[0;32mdef\u001b[0m \u001b[0m_send_request\u001b[0m\u001b[0;34m(\u001b[0m\u001b[0mself\u001b[0m\u001b[0;34m,\u001b[0m \u001b[0mmethod\u001b[0m\u001b[0;34m,\u001b[0m \u001b[0murl\u001b[0m\u001b[0;34m,\u001b[0m \u001b[0mbody\u001b[0m\u001b[0;34m,\u001b[0m \u001b[0mheaders\u001b[0m\u001b[0;34m,\u001b[0m \u001b[0mencode_chunked\u001b[0m\u001b[0;34m)\u001b[0m\u001b[0;34m:\u001b[0m\u001b[0;34m\u001b[0m\u001b[0m\n",
      "\u001b[0;32m~/anaconda3/lib/python3.6/http/client.py\u001b[0m in \u001b[0;36m_send_request\u001b[0;34m(self, method, url, body, headers, encode_chunked)\u001b[0m\n\u001b[1;32m   1283\u001b[0m             \u001b[0;31m# default charset of iso-8859-1.\u001b[0m\u001b[0;34m\u001b[0m\u001b[0;34m\u001b[0m\u001b[0m\n\u001b[1;32m   1284\u001b[0m             \u001b[0mbody\u001b[0m \u001b[0;34m=\u001b[0m \u001b[0m_encode\u001b[0m\u001b[0;34m(\u001b[0m\u001b[0mbody\u001b[0m\u001b[0;34m,\u001b[0m \u001b[0;34m'body'\u001b[0m\u001b[0;34m)\u001b[0m\u001b[0;34m\u001b[0m\u001b[0m\n\u001b[0;32m-> 1285\u001b[0;31m         \u001b[0mself\u001b[0m\u001b[0;34m.\u001b[0m\u001b[0mendheaders\u001b[0m\u001b[0;34m(\u001b[0m\u001b[0mbody\u001b[0m\u001b[0;34m,\u001b[0m \u001b[0mencode_chunked\u001b[0m\u001b[0;34m=\u001b[0m\u001b[0mencode_chunked\u001b[0m\u001b[0;34m)\u001b[0m\u001b[0;34m\u001b[0m\u001b[0m\n\u001b[0m\u001b[1;32m   1286\u001b[0m \u001b[0;34m\u001b[0m\u001b[0m\n\u001b[1;32m   1287\u001b[0m     \u001b[0;32mdef\u001b[0m \u001b[0mgetresponse\u001b[0m\u001b[0;34m(\u001b[0m\u001b[0mself\u001b[0m\u001b[0;34m)\u001b[0m\u001b[0;34m:\u001b[0m\u001b[0;34m\u001b[0m\u001b[0m\n",
      "\u001b[0;32m~/anaconda3/lib/python3.6/http/client.py\u001b[0m in \u001b[0;36mendheaders\u001b[0;34m(self, message_body, encode_chunked)\u001b[0m\n\u001b[1;32m   1232\u001b[0m         \u001b[0;32melse\u001b[0m\u001b[0;34m:\u001b[0m\u001b[0;34m\u001b[0m\u001b[0m\n\u001b[1;32m   1233\u001b[0m             \u001b[0;32mraise\u001b[0m \u001b[0mCannotSendHeader\u001b[0m\u001b[0;34m(\u001b[0m\u001b[0;34m)\u001b[0m\u001b[0;34m\u001b[0m\u001b[0m\n\u001b[0;32m-> 1234\u001b[0;31m         \u001b[0mself\u001b[0m\u001b[0;34m.\u001b[0m\u001b[0m_send_output\u001b[0m\u001b[0;34m(\u001b[0m\u001b[0mmessage_body\u001b[0m\u001b[0;34m,\u001b[0m \u001b[0mencode_chunked\u001b[0m\u001b[0;34m=\u001b[0m\u001b[0mencode_chunked\u001b[0m\u001b[0;34m)\u001b[0m\u001b[0;34m\u001b[0m\u001b[0m\n\u001b[0m\u001b[1;32m   1235\u001b[0m \u001b[0;34m\u001b[0m\u001b[0m\n\u001b[1;32m   1236\u001b[0m     def request(self, method, url, body=None, headers={}, *,\n",
      "\u001b[0;32m~/anaconda3/lib/python3.6/http/client.py\u001b[0m in \u001b[0;36m_send_output\u001b[0;34m(self, message_body, encode_chunked)\u001b[0m\n\u001b[1;32m   1024\u001b[0m         \u001b[0mmsg\u001b[0m \u001b[0;34m=\u001b[0m \u001b[0;34mb\"\\r\\n\"\u001b[0m\u001b[0;34m.\u001b[0m\u001b[0mjoin\u001b[0m\u001b[0;34m(\u001b[0m\u001b[0mself\u001b[0m\u001b[0;34m.\u001b[0m\u001b[0m_buffer\u001b[0m\u001b[0;34m)\u001b[0m\u001b[0;34m\u001b[0m\u001b[0m\n\u001b[1;32m   1025\u001b[0m         \u001b[0;32mdel\u001b[0m \u001b[0mself\u001b[0m\u001b[0;34m.\u001b[0m\u001b[0m_buffer\u001b[0m\u001b[0;34m[\u001b[0m\u001b[0;34m:\u001b[0m\u001b[0;34m]\u001b[0m\u001b[0;34m\u001b[0m\u001b[0m\n\u001b[0;32m-> 1026\u001b[0;31m         \u001b[0mself\u001b[0m\u001b[0;34m.\u001b[0m\u001b[0msend\u001b[0m\u001b[0;34m(\u001b[0m\u001b[0mmsg\u001b[0m\u001b[0;34m)\u001b[0m\u001b[0;34m\u001b[0m\u001b[0m\n\u001b[0m\u001b[1;32m   1027\u001b[0m \u001b[0;34m\u001b[0m\u001b[0m\n\u001b[1;32m   1028\u001b[0m         \u001b[0;32mif\u001b[0m \u001b[0mmessage_body\u001b[0m \u001b[0;32mis\u001b[0m \u001b[0;32mnot\u001b[0m \u001b[0;32mNone\u001b[0m\u001b[0;34m:\u001b[0m\u001b[0;34m\u001b[0m\u001b[0m\n",
      "\u001b[0;32m~/anaconda3/lib/python3.6/http/client.py\u001b[0m in \u001b[0;36msend\u001b[0;34m(self, data)\u001b[0m\n\u001b[1;32m    962\u001b[0m         \u001b[0;32mif\u001b[0m \u001b[0mself\u001b[0m\u001b[0;34m.\u001b[0m\u001b[0msock\u001b[0m \u001b[0;32mis\u001b[0m \u001b[0;32mNone\u001b[0m\u001b[0;34m:\u001b[0m\u001b[0;34m\u001b[0m\u001b[0m\n\u001b[1;32m    963\u001b[0m             \u001b[0;32mif\u001b[0m \u001b[0mself\u001b[0m\u001b[0;34m.\u001b[0m\u001b[0mauto_open\u001b[0m\u001b[0;34m:\u001b[0m\u001b[0;34m\u001b[0m\u001b[0m\n\u001b[0;32m--> 964\u001b[0;31m                 \u001b[0mself\u001b[0m\u001b[0;34m.\u001b[0m\u001b[0mconnect\u001b[0m\u001b[0;34m(\u001b[0m\u001b[0;34m)\u001b[0m\u001b[0;34m\u001b[0m\u001b[0m\n\u001b[0m\u001b[1;32m    965\u001b[0m             \u001b[0;32melse\u001b[0m\u001b[0;34m:\u001b[0m\u001b[0;34m\u001b[0m\u001b[0m\n\u001b[1;32m    966\u001b[0m                 \u001b[0;32mraise\u001b[0m \u001b[0mNotConnected\u001b[0m\u001b[0;34m(\u001b[0m\u001b[0;34m)\u001b[0m\u001b[0;34m\u001b[0m\u001b[0m\n",
      "\u001b[0;32m~/anaconda3/lib/python3.6/site-packages/urllib3/connection.py\u001b[0m in \u001b[0;36mconnect\u001b[0;34m(self)\u001b[0m\n\u001b[1;32m    164\u001b[0m \u001b[0;34m\u001b[0m\u001b[0m\n\u001b[1;32m    165\u001b[0m     \u001b[0;32mdef\u001b[0m \u001b[0mconnect\u001b[0m\u001b[0;34m(\u001b[0m\u001b[0mself\u001b[0m\u001b[0;34m)\u001b[0m\u001b[0;34m:\u001b[0m\u001b[0;34m\u001b[0m\u001b[0m\n\u001b[0;32m--> 166\u001b[0;31m         \u001b[0mconn\u001b[0m \u001b[0;34m=\u001b[0m \u001b[0mself\u001b[0m\u001b[0;34m.\u001b[0m\u001b[0m_new_conn\u001b[0m\u001b[0;34m(\u001b[0m\u001b[0;34m)\u001b[0m\u001b[0;34m\u001b[0m\u001b[0m\n\u001b[0m\u001b[1;32m    167\u001b[0m         \u001b[0mself\u001b[0m\u001b[0;34m.\u001b[0m\u001b[0m_prepare_conn\u001b[0m\u001b[0;34m(\u001b[0m\u001b[0mconn\u001b[0m\u001b[0;34m)\u001b[0m\u001b[0;34m\u001b[0m\u001b[0m\n\u001b[1;32m    168\u001b[0m \u001b[0;34m\u001b[0m\u001b[0m\n",
      "\u001b[0;32m~/anaconda3/lib/python3.6/site-packages/urllib3/connection.py\u001b[0m in \u001b[0;36m_new_conn\u001b[0;34m(self)\u001b[0m\n\u001b[1;32m    139\u001b[0m         \u001b[0;32mtry\u001b[0m\u001b[0;34m:\u001b[0m\u001b[0;34m\u001b[0m\u001b[0m\n\u001b[1;32m    140\u001b[0m             conn = connection.create_connection(\n\u001b[0;32m--> 141\u001b[0;31m                 (self.host, self.port), self.timeout, **extra_kw)\n\u001b[0m\u001b[1;32m    142\u001b[0m \u001b[0;34m\u001b[0m\u001b[0m\n\u001b[1;32m    143\u001b[0m         \u001b[0;32mexcept\u001b[0m \u001b[0mSocketTimeout\u001b[0m \u001b[0;32mas\u001b[0m \u001b[0me\u001b[0m\u001b[0;34m:\u001b[0m\u001b[0;34m\u001b[0m\u001b[0m\n",
      "\u001b[0;32m~/anaconda3/lib/python3.6/site-packages/urllib3/util/connection.py\u001b[0m in \u001b[0;36mcreate_connection\u001b[0;34m(address, timeout, source_address, socket_options)\u001b[0m\n\u001b[1;32m     71\u001b[0m             \u001b[0;32mif\u001b[0m \u001b[0msource_address\u001b[0m\u001b[0;34m:\u001b[0m\u001b[0;34m\u001b[0m\u001b[0m\n\u001b[1;32m     72\u001b[0m                 \u001b[0msock\u001b[0m\u001b[0;34m.\u001b[0m\u001b[0mbind\u001b[0m\u001b[0;34m(\u001b[0m\u001b[0msource_address\u001b[0m\u001b[0;34m)\u001b[0m\u001b[0;34m\u001b[0m\u001b[0m\n\u001b[0;32m---> 73\u001b[0;31m             \u001b[0msock\u001b[0m\u001b[0;34m.\u001b[0m\u001b[0mconnect\u001b[0m\u001b[0;34m(\u001b[0m\u001b[0msa\u001b[0m\u001b[0;34m)\u001b[0m\u001b[0;34m\u001b[0m\u001b[0m\n\u001b[0m\u001b[1;32m     74\u001b[0m             \u001b[0;32mreturn\u001b[0m \u001b[0msock\u001b[0m\u001b[0;34m\u001b[0m\u001b[0m\n\u001b[1;32m     75\u001b[0m \u001b[0;34m\u001b[0m\u001b[0m\n",
      "\u001b[0;31mKeyboardInterrupt\u001b[0m: "
     ]
    }
   ],
   "source": [
    "requests.get('http://google.com')"
   ]
  },
  {
   "cell_type": "markdown",
   "metadata": {},
   "source": [
    "# 广州大学图书馆进馆人数爬取"
   ]
  },
  {
   "cell_type": "code",
   "execution_count": 22,
   "metadata": {
    "collapsed": true
   },
   "outputs": [],
   "source": [
    "url = 'http://lib.gzhu.edu.cn:8080/bookle/goLibTotal/custom'#图书馆查询进馆人数url\n",
    "data = {'begin':'2018-05-01','end':'2018-05-06'}#构建post的数据\n",
    "res = requests.post(url,data=data)#发出请求\n",
    "soup = BeautifulSoup(res.text,'lxml')#为了下一步提取 构建soup对象"
   ]
  },
  {
   "cell_type": "markdown",
   "metadata": {},
   "source": [
    "## 使用BeautifulSoup库进行网页数据解析提取"
   ]
  },
  {
   "cell_type": "code",
   "execution_count": 23,
   "metadata": {},
   "outputs": [
    {
     "data": {
      "text/plain": [
       "'总进馆人次:18796'"
      ]
     },
     "execution_count": 23,
     "metadata": {},
     "output_type": "execute_result"
    }
   ],
   "source": [
    "soup.find('div',id='total').text#寻找div标签 并且id参数为total的第一个标签"
   ]
  },
  {
   "cell_type": "code",
   "execution_count": 24,
   "metadata": {},
   "outputs": [
    {
     "data": {
      "text/plain": [
       "[<td width=\"300\">法学院</td>,\n",
       " <td width=\"300\">土木工程学院</td>,\n",
       " <td width=\"300\">政治与公民教育学院</td>,\n",
       " <td width=\"300\">数学与信息科学学院</td>,\n",
       " <td width=\"300\">人文学院</td>,\n",
       " <td width=\"300\">外国语学院</td>,\n",
       " <td width=\"300\">经济与统计学院</td>,\n",
       " <td width=\"300\">计算机科学与教育软件学院</td>,\n",
       " <td width=\"300\">教育学院</td>,\n",
       " <td width=\"300\">物理与电子工程学院</td>,\n",
       " <td width=\"300\">生命科学学院</td>,\n",
       " <td width=\"300\">机械与电气工程学院</td>,\n",
       " <td width=\"300\">化学化工学院</td>,\n",
       " <td width=\"300\">环境科学与工程学院</td>,\n",
       " <td width=\"300\">公共管理学院</td>,\n",
       " <td width=\"300\">地理科学学院</td>,\n",
       " <td width=\"300\">工商管理学院</td>,\n",
       " <td width=\"300\">旅游学院</td>,\n",
       " <td width=\"300\">新闻与传播学院</td>,\n",
       " <td width=\"300\">建筑与城市规划学院</td>,\n",
       " <td width=\"300\">卫斯理安学院</td>,\n",
       " <td width=\"300\">体育学院</td>,\n",
       " <td width=\"300\">音乐舞蹈学院</td>,\n",
       " <td width=\"300\">美术与设计学院</td>]"
      ]
     },
     "execution_count": 24,
     "metadata": {},
     "output_type": "execute_result"
    }
   ],
   "source": [
    "soup.find_all('td',width='300')#寻找所有td标签 并且width参数为300的标签"
   ]
  },
  {
   "cell_type": "markdown",
   "metadata": {},
   "source": [
    "# 模拟登陆广州大学图书馆网站"
   ]
  },
  {
   "cell_type": "code",
   "execution_count": 25,
   "metadata": {},
   "outputs": [
    {
     "data": {
      "text/plain": [
       "'\\r\\n\\r\\n<!DOCTYPE html PUBLIC \"-//W3C//DTD XHTML 1.0 Transitional//EN\" \"http://www.w3.org/TR/xhtml1/DTD/xhtml1-transitional.dtd\">\\r\\n\\r\\n<html xmlns=\"http://www.w3.org/1999/xhtml\">\\r\\n<head><title>\\r\\n\\t我的图书馆\\r\\n</title><link href=\"CSS/Loginstyle.css\" rel=\"stylesheet\" type=\"text/css\" />\\r\\n    <script src=\"JS/jquery.js\" type=\"text/javascript\"></script>\\r\\n     <style type=\"text/css\">\\r\\n        .go\\r\\n        {\\r\\n            width: 47px;\\r\\n            height: 106px;\\r\\n            position: fixed;\\r\\n            _position: absolute;\\r\\n            left:6px;\\r\\n            _top: expression(eval(document.documentElement.scrollTop+document.documentElement.clientHeight-this.offsetHeight-(parseInt(this.currentStyle.marginTop,10)||200)-(parseInt(this.currentStyle.marginBottom,10)||0)));\\r\\n            bottom: 40%;\\r\\n            background-image: url( \"/jscss/demoimg/201208/tobg.png\" );\\r\\n            background-repeat: no-repeat;\\r\\n        }\\r\\n        .go a\\r\\n        {\\r\\n            background: url(Images/a.png) no-repeat;\\r\\n            display: block;\\r\\n            text-indent: 999em;\\r\\n            width: 37px;\\r\\n            margin: 5px;\\r\\n            border: 0;\\r\\n            overflow: hidden;\\r\\n            float:right;\\r\\n            cursor: pointer;\\r\\n        }\\r\\n        .go .top\\r\\n        {\\r\\n            background-position: 0 0px;\\r\\n            height: 22px;\\r\\n        }\\r\\n        .go .feedback\\r\\n        {\\r\\n            background-position: 0 -22px;\\r\\n            height: 32px;\\r\\n            cursor:text;\\r\\n        }\\r\\n        .go .bottom\\r\\n        {\\r\\n            background-position: 0 -55px;\\r\\n            height: 22px;\\r\\n        }\\r\\n        .go .top:hover\\r\\n        {\\r\\n            background-position: -38px -0px;\\r\\n        }\\r\\n      \\r\\n        .go .bottom:hover\\r\\n        {\\r\\n            background-position: -38px -55px;\\r\\n        }\\r\\n    </style>\\r\\n\\r\\n    <script type=\"text/javascript\">\\r\\n    $(function () {\\r\\n\\r\\n        $(\".top\").click(//定义返回顶部点击向上滚动的动画\\r\\n        function () {\\r\\n            $(\\'html,body\\').animate({ scrollTop: 0 },700);\\r\\n        });\\r\\n        $(\".bottom\").click(//定义返回顶部点击向上滚动的动画\\r\\n        function () {\\r\\n            $(\\'html,body\\').animate({ scrollTop: document.body.clientHeight },700);\\r\\n        });\\r\\n    })\\r\\n    </script>\\r\\n<script type=\"text/javascript\"language=\"javascript\">\\r\\nfunction SetCwinHeight()\\r\\n{\\r\\nvar cwin=document.getElementById(\"content\");\\r\\nif (document.getElementById)\\r\\n{\\r\\nif (cwin && !window.opera)\\r\\n{\\r\\nif (cwin.contentDocument && cwin.contentDocument.body.offsetHeight)\\r\\ncwin.height = cwin.contentDocument.body.offsetHeight;\\r\\nelse if(cwin.Document && cwin.Document.body.scrollHeight)\\r\\ncwin.height = cwin.Document.body.scrollHeight;\\r\\n}\\r\\n}\\r\\n}\\r\\n</script>\\r\\n</head>\\r\\n<body >\\r\\n    <form name=\"form1\" method=\"post\" action=\"MylibIndex.aspx\" id=\"form1\">\\r\\n<input type=\"hidden\" name=\"__VIEWSTATE\" id=\"__VIEWSTATE\" value=\"/wEPDwULLTEwMjYyNjQ2MDQPZBYCAgMPZBYEZg8PFgIeBFRleHQFBuipuemAuGRkAgEPDxYCHwAFCjIwMTgtMDUtMDZkZGSi0q2OVxfmRN72LQMieaMC9ZAhiw==\" />\\r\\n\\r\\n<input type=\"hidden\" name=\"__VIEWSTATEGENERATOR\" id=\"__VIEWSTATEGENERATOR\" value=\"9AC0C9A4\" />\\r\\n        <div class=\"body\">\\r\\n\\t<div class=\"body_in\">\\r\\n\\t\\t<h2 id=\"logo\"></h2>\\r\\n\\t\\t<div class=\"mainbody_out\">\\r\\n\\t\\t\\t<div class=\"mainbody_in\">\\r\\n\\t\\t\\t\\t<div class=\"mainbody\">\\t\\t\\r\\n\\t\\t\\t\\t\\t<div class=\"weilcomeinfo\">\\r\\n\\t\\t\\t\\t\\t<h3><a href=\"index.aspx\" class=\"backhome\">返回首页</a>\\r\\n\\t\\t\\t\\t\\t\\t<span class=\"welcome\">您好<span style=\"font-size:20px;weight:bold\">\\r\\n                        <span id=\"LabUserName\">詹逸</span>\\r\\n                        </span>，欢迎您！</span>\\r\\n\\t\\t\\t\\t\\t\\t<span class=\"time\">当前日期：<span id=\"LabCurTime\">2018-05-06</span></span>\\t\\t\\t\\t\\t\\t\\r\\n\\t\\t\\t\\t\\t\\t\\r\\n\\t\\t\\t\\t\\t</h3>\\r\\n\\t\\t\\t\\t\\t</div>\\r\\n\\r\\n        <!-----返回顶部底部---->\\r\\n        <div class=\"go\">\\r\\n            <a title=\"返回顶部\" class=\"top\"></a>\\r\\n            \\r\\n            <a  class=\"feedback\"></a>\\r\\n              \\r\\n            <a title=\"返回底部\" class=\"bottom\"></a>\\r\\n        </div>\\r\\n\\t\\t\\t\\t\\t<div class=\"content\">\\r\\n\\t\\t\\t\\t\\t\\t<div class=\"side\">\\r\\n\\t\\t\\t\\t\\t\\t\\t<ul class=\"personalnav\">\\r\\n\\t\\t\\t\\t\\t\\t\\t    <li class=\"on\"><a>个人功能管理</a>\\r\\n\\t\\t\\t\\t\\t\\t\\t\\t\\t<ul>\\r\\n\\t\\t\\t\\t\\t\\t\\t\\t\\t\\t<li><a href=\"NTBookLoanRetr.aspx\" target=\"content\">图书续借</a></li>\\r\\n\\t\\t\\t\\t\\t\\t\\t\\r\\n\\t\\t\\t\\t\\t\\t\\t\\t\\t\\t<li><a href=\"NTBookLoanLogCheck.aspx\" target=\"content\">借阅史查询</a></li>\\r\\n\\t\\t\\t\\t\\t\\t\\t\\t\\t\\t<li><a href=\"NTRdrRightRetr.aspx\" target=\"content\">借阅权限查询</a></li>\\r\\n\\t\\t\\t\\t\\t\\t\\t\\t\\t\\t<li><a href=\"NTRdrFinRetr.aspx\" target=\"content\">财经查询</a></li>\\r\\n\\t\\t\\t\\t\\t\\t\\t\\t\\t\\t<li><a href=\"NTSBookLogCheck.aspx\" target=\"content\">专项借阅查询</a></li>\\t\\t\\r\\n\\t\\t\\t\\t\\t\\t\\t\\t\\t\\t<li><a href=\"TBRdrBookLoanTop.aspx\" target=\"content\">借阅走势图</a></li>\\t\\t\\t\\t\\t\\t\\t\\t\\t\\r\\n\\t\\t\\t\\t\\t\\t\\t\\t\\t</ul>\\r\\n\\t\\t\\t\\t\\t\\t\\t\\t</li>\\r\\n\\t\\t\\t\\t\\t\\t\\t\\t<li><a >个人信息管理</a>\\r\\n\\t\\t\\t\\t\\t\\t\\t\\t\\t<ul>\\r\\n\\t\\t\\t\\t\\t\\t\\t\\t\\t\\t<li><a href=\"NTchangePassWord.aspx\" target=\"content\">修改密码</a></li>\\r\\n\\t\\t\\t\\t\\t\\t\\t\\t\\t\\t<li><a href=\"NTChangesInfo.aspx\" target=\"content\">资料变更</a></li>\\r\\n\\t\\t\\t\\t\\t\\t\\t\\t\\t\\t<li><a href=\"NTInfoMeun.aspx\" target=\"content\">信息发布</a></li>\\r\\n\\t\\t\\t\\t\\t\\t\\t\\t\\t  \\r\\n\\t\\t\\t\\t\\t\\t\\t\\t\\t\\t\\r\\n\\t\\t\\t\\t\\t\\t\\t\\t\\t</ul>\\r\\n\\t\\t\\t\\t\\t\\t\\t\\t</li>\\r\\n\\t\\t\\t\\t\\t\\t\\t\\t<li><a href=\"NTRdrReseRetr.aspx\" target=\"content\">我的预约</a></li>\\r\\n\\t\\t\\t\\t\\t\\t\\t\\t<li><a href=\"NTRdrRessLoanRetr.aspx\" target=\"content\">我的预借</a></li>\\r\\n\\t\\t\\t\\t\\r\\n\\t\\t\\t\\t\\t\\t\\t    <li><a href=\"MyBookCritic.aspx\" target=\"content\">我的评论</a></li>\\r\\n\\t\\t\\t\\t\\t\\t\\t\\t<li><a href=\"Mybookshelf.aspx\" target=\"content\">我的书架</a></li>\\r\\n\\t\\t\\t\\t\\t\\t\\t\\t\\r\\n\\t\\t\\t\\t\\t\\t\\t\\t<li><a href=\"NTRdrExitLogin.aspx\">退出我的图书馆</a></li>\\r\\n\\t\\t\\t\\t\\t\\t\\t\\t\\r\\n\\t\\t\\t\\t\\t\\t\\t\\t\\r\\n\\t\\t\\t\\t\\t\\t\\t</ul>\\r\\n\\t\\t\\t\\t\\t\\t</div>\\r\\n    <script type=\"text/javascript\">\\r\\n$(document).ready(function(){\\r\\n\\t//找到标签2效果对应的三个标签，注册鼠标点击事件\\r\\n\\t$(\".personalnav li\").each(function(index){\\r\\n\\t\\t$(this).click(function(){\\r\\n\\t\\t\\t$(\".personalnav li.on\").removeClass(\"on\");\\r\\n\\t\\t\\t$(this).addClass(\"on\");\\r\\n\\t\\t});\\r\\n\\t});\\r\\n   \\r\\n});\\r\\n</script>\\r\\n \\r\\n<div class=\"main\">\\r\\n   \\r\\n   <iframe id=\"content\" name=\"content\" onload=\"javascript:SetCwinHeight()\"  src=\"MyLibIndexInfo.aspx\" frameborder=\"0\" height=\"100%\" width=\"700px\" scrolling=\"no\"></iframe>  \\r\\n   \\r\\n \\r\\n</div>  \\r\\n \\t \\t\\r\\n\\t\\t\\t\\t</div><!-- mainbody over -->\\r\\n\\t\\t\\t</div>\\r\\n\\t\\t</div>\\r\\n\\t\\t<div class=\"footer\">Copyright. 2012 -- 2022 All Rights Reserved.</div>\\r\\n\\t</div>\\r\\n</div>\\r\\n</div>\\r\\n    </form>\\r\\n   \\r\\n</body>\\r\\n</html>\\r\\n'"
      ]
     },
     "execution_count": 25,
     "metadata": {},
     "output_type": "execute_result"
    }
   ],
   "source": [
    "libsession = requests.Session()#创建session对象以保存对话信息\n",
    "lib_login_url = 'http://202.192.41.8/NTRdrLogin.aspx'\n",
    "\n",
    "def get_view(response):\n",
    "    '''获得模拟登陆时提交表单所需的三个参数'''\n",
    "    soup = BeautifulSoup(response.text, \"lxml\")\n",
    "    view = []\n",
    "    view.append(soup.findAll(name=\"input\")[0][\"value\"]) \n",
    "    view.append(soup.findAll(name=\"input\")[1][\"value\"])\n",
    "    view.append(soup.findAll(name=\"input\")[2][\"value\"]) \n",
    "    return view\n",
    "username = '17195000xxx'#用户名\n",
    "password = 'xxxx'#密码\n",
    "login_page = requests.get(lib_login_url)#获得登录页面\n",
    "view = get_view(login_page)#获得登录页面上的几个必要的登录参数\n",
    "post_data = {#构建登录post的数据\n",
    "    '__VIEWSTATE':view[0],\n",
    "    '__VIEWSTATEGENERATOR':view[1],\n",
    "    '__EVENTVALIDATION':view[2],\n",
    "    'txtName':username,\n",
    "    'txtPassWord':password,\n",
    "    'Logintype':'RbntRecno',\n",
    "    'BtnLogin':'%E7%99%BB+%E5%BD%95'\n",
    "}\n",
    "res = libsession.post(lib_login_url,data=post_data,timeout = 5)#发起登录请求\n",
    "res.text"
   ]
  },
  {
   "cell_type": "markdown",
   "metadata": {},
   "source": [
    "# 模拟登陆广州大学教务网站"
   ]
  },
  {
   "cell_type": "code",
   "execution_count": 26,
   "metadata": {},
   "outputs": [
    {
     "data": {
      "text/plain": [
       "'\\r\\n<?xml version=\"1.0\" encoding=\"gb2312\" ?>\\r\\n<!DOCTYPE html PUBLIC \"-//W3C//DTD XHTML 1.0 Transitional//EN\" \"http://www.w3.org/TR/xhtml1/DTD/xhtml1-transitional.dtd\">\\r\\n<HTML class=\"main_html\">\\r\\n\\t<HEAD>\\r\\n\\t\\t<title>正方教务管理系统</title><meta http-equiv=\"X-UA-Compatible\" content=\"IE=EmulateIE7\" />\\r\\n\\t\\t<meta http-equiv=\"Content-Type\" content=\"text/html; charset=gb2312\">\\r\\n\\t\\t<meta http-equiv=\"Content-Language\" content=\"gb2312\">\\r\\n\\t\\t<meta content=\"all\" name=\"robots\">\\r\\n\\t\\t<meta name=\"author\" content=\"作者信息\">\\r\\n\\t\\t<meta name=\"Copyright\" content=\"版权信息\">\\r\\n\\t\\t<meta name=\"description\" content=\"站点介绍\">\\r\\n\\t\\t<meta name=\"keywords\" content=\"站点关键词\">\\r\\n\\t\\t<link rel=\"stylesheet\" href=\"style/base/jw.css\" type=\"text/css\" media=\"all\">\\r\\n\\t\\t\\t<link rel=\"stylesheet\" href=\"style/standard/jw.css\" type=\"text/css\" media=\"all\">\\r\\n\\t\\t\\t\\t\\r\\n\\t\\t\\t\\t\\t<script language=\"javascript\" src=\"style/js/iframeautoheight.js\"></script>\\r\\n\\t\\t\\t\\t<!--[if IE 6]> \\r\\n<script src=\"style/js/ie6comm.js\"></script> \\r\\n<script> \\r\\nDD_belatedPNG.fix(\\'img\\'); \\r\\n</script> \\r\\n<![endif]-->\\r\\n\\r\\n\\t\\t\\t\\t\\t<script src=\"js/xtwh.js\" language=\"javascript\"></script>\\r\\n\\t\\t<script type=\"text/javascript\">\\r\\n// initialise plugins\\r\\n\\t\\t\\tvar a=b=c=\\'\\';\\r\\n\\t\\t\\tfunction GetMc(text)\\r\\n\\t\\t\\t{\\r\\n\\t\\t\\tdocument.getElementById(\\'dqwz\\').innerText=text;\\r\\n\\t\\t\\tvar url=window.frames[\"zhuti\"].location.href;\\r\\n\\t\\t\\tvar p=url.substring(url.lastIndexOf(\\'/\\')+1,url.lastIndexOf(\\'aspx\\')+4);\\r\\n\\t\\t\\ta=c;\\r\\n\\t\\t\\tc=p;\\r\\n\\t\\t\\tif(b!=text)\\r\\n\\t\\t\\t{\\r\\n\\t\\t\\t\\tif(a!=p)\\r\\n\\t\\t\\t\\t{\\r\\n\\t\\t\\t\\tdocument.getElementById(\\'lj\\').innerText=b;\\r\\n\\t\\t\\t\\t}\\r\\n\\t\\t\\t\\tb=text;\\r\\n\\t\\t\\t}\\r\\n\\t\\t\\t}\\r\\n\\t\\t</script>\\r\\n\\t\\r\\n\\t<style type=\"text/css\">\\r\\n\\t#bodyDiv {\\r\\n\\t\\t_padding-top:80px!important;\\r\\n\\t}\\r\\n\\t#headDiv{\\r\\n\\t\\theight:80px!important;\\r\\n\\t}\\r\\n\\t#bodyDiv>#mainDiv {\\r\\n\\t\\ttop:80px!important;\\r\\n\\t}\\r\\n\\t.logo{display:none;}\\r\\n\\t.info{\\r\\n\\tbackground:none;\\r\\n\\theight:auto;\\r\\n\\t}\\r\\n\\t</style>\\r\\n\\t\\r\\n\\t</HEAD>\\r\\n\\t<BODY class=\"mainbody\">\\r\\n\\t\\t<div id=\"bodyDiv\">\\r\\n\\t\\t\\t<div id=\"headDiv\">\\r\\n\\t\\t\\t\\t<!--顶部-->\\r\\n\\t\\t\\t\\t<div class=\"head\">\\r\\n\\t\\t\\t\\t\\t<!--学校图标及皮肤说明图标-->\\r\\n\\t\\t\\t\\t\\t<div class=\"logo\">\\r\\n\\t\\t\\t\\t\\t\\t <h2><img src=\"logo/logo_school.png\" /></h2>\\r\\n                         <h3><img src=\"logo/logo_jw.png\" /></h3>\\r\\n\\t\\t\\t\\t\\t</div>\\r\\n\\t\\t\\t\\t\\t<!--学校图标及皮肤说明图标-->\\r\\n\\t\\t\\t\\t\\t<!--登录信息及工具-->\\r\\n\\t\\t\\t\\t\\t<form name=\"Form1\" method=\"post\" action=\"xs_main.aspx?xh=1719500024\" id=\"Form1\">\\r\\n<input type=\"hidden\" name=\"__EVENTTARGET\" value=\"\" />\\r\\n<input type=\"hidden\" name=\"__EVENTARGUMENT\" value=\"\" />\\r\\n<input type=\"hidden\" name=\"__VIEWSTATE\" value=\"dDwtMTM4MzI5NTE3MDs7PmdgYaHq2l9uviN/6MsViNuC+lqB\" />\\r\\n\\r\\n<input type=\"hidden\" name=\"__VIEWSTATEGENERATOR\" value=\"9D5B7189\" />\\r\\n\\r\\n<script language=\"javascript\" type=\"text/javascript\">\\r\\n<!--\\r\\n\\tfunction __doPostBack(eventTarget, eventArgument) {\\r\\n\\t\\tvar theform;\\r\\n\\t\\tif (window.navigator.appName.toLowerCase().indexOf(\"microsoft\") > -1) {\\r\\n\\t\\t\\ttheform = document.Form1;\\r\\n\\t\\t}\\r\\n\\t\\telse {\\r\\n\\t\\t\\ttheform = document.forms[\"Form1\"];\\r\\n\\t\\t}\\r\\n\\t\\ttheform.__EVENTTARGET.value = eventTarget.split(\"$\").join(\":\");\\r\\n\\t\\ttheform.__EVENTARGUMENT.value = eventArgument;\\r\\n\\t\\ttheform.submit();\\r\\n\\t}\\r\\n// -->\\r\\n</script>\\r\\n\\r\\n\\t\\t\\t\\t\\t\\t<div class=\"info\">\\r\\n\\t\\t\\t\\t\\t\\t\\t<ul>\\r\\n\\t\\t\\t\\t\\t\\t\\t\\t<li>\\r\\n\\t\\t\\t\\t\\t\\t\\t\\t\\t<span id=\"Label3\">欢迎您：</span>\\r\\n\\t\\t\\t\\t\\t\\t\\t\\t\\t<em>\\r\\n\\t\\t\\t\\t\\t\\t\\t\\t\\t\\t<span id=\"xhxm\">1719500024  詹逸同学</span></em>\\r\\n\\t\\t\\t\\t\\t\\t\\t\\t\\t\\r\\n\\t\\t\\t\\t\\t\\t\\t\\t</li>\\r\\n\\t\\t\\t\\t\\t\\t\\t\\t<li>\\r\\n\\t\\t\\t\\t\\t\\t\\t\\t\\t\\r\\n\\t\\t\\t\\t\\t\\t\\t\\t</li>\\r\\n\\t\\t\\t\\t\\t\\t\\t</ul>\\r\\n\\t\\t\\t\\t\\t\\t</div>\\r\\n\\t\\t\\t\\t\\t</form>\\r\\n\\t\\t\\t\\t\\t<!--登录信息及工具-->\\r\\n\\t\\t\\t\\t</div>\\r\\n\\t\\t\\t\\t<!--顶部-->\\r\\n\\t\\t\\t\\t<!--导航-->\\r\\n\\t\\t\\t\\t<!-- 主菜单Start-->\\r\\n\\t\\t\\t\\t <ul class=\\'nav\\'><li class=\\'top\\'><a class=\\'top_link\\' href=\\'xs_main.aspx?xh=1719500024\\'><span class=\\'\\'>返回首页</span></a></li><li class=\\'top\\'><a href=\\'#\\' class=\\'top_link\\'><span class=\\'down\\'> 网上选课</span><!--[if gte IE 7]><!--></a><!--<![endif]--><!--[if lte IE 6]><table><tr><td><![endif]--><ul class=\\'sub\\'><!--[if lte IE 6]><iframe class=\\'navbug\\'></iframe><![endif]--><li><a href=\"xf_xsqxxxk.aspx?xh=1719500024&xm=詹逸&gnmkdm=N121203\" target=\\'zhuti\\' onclick=\"GetMc(\\'全校性选修课\\');\">全校性选修课</a></li><li><a href=\"xf_xstyxk.aspx?xh=1719500024&xm=詹逸&gnmkdm=N121205\" target=\\'zhuti\\' onclick=\"GetMc(\\'体育选课\\');\">体育选课</a></li></ul><!--[if lte IE 6]></td></tr></table></a><![endif]--></li>  <li class=\\'top\\'><a href=\\'#a\\' class=\\'top_link\\'><span class=\\'down\\'> 活动报名</span><!--[if gte IE 7]><!--></a><!--<![endif]--><!--[if lte IE 6]><table><tr><td><![endif]--><ul class=\\'sub\\'><!--[if lte IE 6]><iframe class=\\'navbug\\'></iframe><![endif]--><li><a href=\"bmxmb.aspx?xh=1719500024&xm=詹逸&gnmkdm=N121303\" target=\\'zhuti\\' onclick=\"GetMc(\\'网上报名\\');\">网上报名</a></li></ul><!--[if lte IE 6]></td></tr></table></a><![endif]--></li>  <li class=\\'top\\'><a href=\\'#a\\' class=\\'top_link\\'><span class=\\'down\\'> 教学质量评价</span><!--[if gte IE 7]><!--></a><!--<![endif]--><!--[if lte IE 6]><table><tr><td><![endif]--><ul class=\\'sub\\'><!--[if lte IE 6]><iframe class=\\'navbug\\'></iframe><![endif]--><li><a href=\"xsjxpj2.aspx?xh=1719500024&xm=詹逸&gnmkdm=N121402\" target=\\'zhuti\\' onclick=\"GetMc(\\'教学质量评价\\');\">教学质量评价</a></li></ul><!--[if lte IE 6]></td></tr></table></a><![endif]--></li>  <li class=\\'top\\'><a href=\\'#a\\' class=\\'top_link\\'><span class=\\'down\\'> 信息维护</span><!--[if gte IE 7]><!--></a><!--<![endif]--><!--[if lte IE 6]><table><tr><td><![endif]--><ul class=\\'sub\\'><!--[if lte IE 6]><iframe class=\\'navbug\\'></iframe><![endif]--><li><a href=\"xsgrxx.aspx?xh=1719500024&xm=詹逸&gnmkdm=N121501\" target=\\'zhuti\\' onclick=\"GetMc(\\'个人信息\\');\">个人信息</a></li><li><a href=\"xsxjc.aspx?xh=1719500024&xm=詹逸&gnmkdm=N121505\" target=\\'zhuti\\' onclick=\"GetMc(\\'学生预定教材\\');\">学生预定教材</a></li></ul><!--[if lte IE 6]></td></tr></table></a><![endif]--></li>  <li class=\\'top\\'><a href=\\'#a\\' class=\\'top_link\\'><span class=\\'down\\'> 信息查询</span><!--[if gte IE 7]><!--></a><!--<![endif]--><!--[if lte IE 6]><table><tr><td><![endif]--><ul class=\\'sub\\'><!--[if lte IE 6]><iframe class=\\'navbug\\'></iframe><![endif]--><li><a href=\"tjkbcx.aspx?xh=1719500024&xm=詹逸&gnmkdm=N121601\" target=\\'zhuti\\' onclick=\"GetMc(\\'专业推荐课表查询\\');\">专业推荐课表查询</a></li><li><a href=\"jstjkbcx.aspx?xh=1719500024&xm=詹逸&gnmkdm=N121602\" target=\\'zhuti\\' onclick=\"GetMc(\\'教师个人课表查询\\');\">教师个人课表查询</a></li><li><a href=\"xskbcx.aspx?xh=1719500024&xm=詹逸&gnmkdm=N121603\" target=\\'zhuti\\' onclick=\"GetMc(\\'学生个人课表\\');\">学生个人课表</a></li><li><a href=\"xscj_gc.aspx?xh=1719500024&xm=詹逸&gnmkdm=N121605\" target=\\'zhuti\\' onclick=\"GetMc(\\'成绩查询\\');\">成绩查询</a></li><li><a href=\"xsdjkscx.aspx?xh=1719500024&xm=詹逸&gnmkdm=N121606\" target=\\'zhuti\\' onclick=\"GetMc(\\'等级考试查询\\');\">等级考试查询</a></li><li><a href=\"pyjh.aspx?xh=1719500024&xm=詹逸&gnmkdm=N121607\" target=\\'zhuti\\' onclick=\"GetMc(\\'培养计划\\');\">培养计划</a></li><li><a href=\"xsjccx.aspx?xh=1719500024&xm=詹逸&gnmkdm=N121608\" target=\\'zhuti\\' onclick=\"GetMc(\\'教材使用信息\\');\">教材使用信息</a></li><li><a href=\"jcjbxx.aspx?xh=1719500024&xm=詹逸&gnmkdm=N121609\" target=\\'zhuti\\' onclick=\"GetMc(\\'教材库存查询\\');\">教材库存查询</a></li><li><a href=\"xxjsjy.aspx?xh=1719500024&xm=詹逸&gnmkdm=N121611\" target=\\'zhuti\\' onclick=\"GetMc(\\'教室查询\\');\">教室查询</a></li><li><a href=\"xszzycx.aspx?xh=1719500024&xm=詹逸&gnmkdm=N121612\" target=\\'zhuti\\' onclick=\"GetMc(\\'转专业查询\\');\">转专业查询</a></li><li><a href=\"xszxcxcx.aspx?xh=1719500024&xm=詹逸&gnmkdm=N121614\" target=\\'zhuti\\' onclick=\"GetMc(\\'自学重修查询\\');\">自学重修查询</a></li><li><a href=\"xsxkqk.aspx?xh=1719500024&xm=詹逸&gnmkdm=N121615\" target=\\'zhuti\\' onclick=\"GetMc(\\'学生选课情况查询\\');\">学生选课情况查询</a></li></ul><!--[if lte IE 6]></td></tr></table></a><![endif]--></li>  <li class=\\'top\\'><a href=\\'#a\\' class=\\'top_link\\'><span class=\\'down\\'> 公用信息</span><!--[if gte IE 7]><!--></a><!--<![endif]--><!--[if lte IE 6]><table><tr><td><![endif]--><ul class=\\'sub\\'><!--[if lte IE 6]><iframe class=\\'navbug\\'></iframe><![endif]--></ul><!--[if lte IE 6]></td></tr></table></a><![endif]--></li></ul>\\r\\n\\t\\t\\t\\t<!--选项卡-->\\r\\n\\t\\t\\t\\t<div class=\"tab\">\\r\\n\\t\\t\\t\\t\\t<ul style=\"DISPLAY:none\">\\r\\n\\t\\t\\t\\t\\t\\t<li>\\r\\n\\t\\t\\t\\t\\t\\t</li>\\r\\n\\t\\t\\t\\t\\t</ul>\\r\\n\\t\\t\\t\\t\\t<p class=\"location\">\\r\\n\\t\\t\\t\\t\\t\\t<em>当前位置 --\\r\\n\\t\\t\\t\\t\\t\\t\\t<span id=\"dqwz\">通知公告</span><span id=\"lj\" style=\"DISPLAY:none\"></span>\\r\\n\\t\\t\\t\\t\\t\\t</em>\\r\\n\\t\\t\\t\\t\\t</p>\\r\\n\\t\\t\\t\\t</div>\\r\\n\\t\\t\\t\\t<!--选项卡-->\\r\\n\\t\\t\\t\\t<!--导航-->\\r\\n\\t\\t\\t</div>\\r\\n\\t\\t\\t<div id=\"mainDiv\">\\r\\n\\t\\t\\t\\t<div id=\"leftDiv\">\\r\\n\\t\\t\\t\\t</div>\\r\\n\\t\\t\\t\\t<div id=\"rightDiv\">\\r\\n\\t\\t\\t\\t\\t<div>\\r\\n\\t\\t\\t\\t\\t\\t<iframe id=\"iframeautoheight\" class=\"rightcontiframe\" name=\"zhuti\" allowtransparency=\"true\"\\r\\n\\t\\t\\t\\t\\t\\t\\tsrc=\"content.aspx\" scrolling=\"no\" frameborder=\"0\" marginwidth=\"0\" marginheight=\"0\" onload=\"this.height=400;\"></iframe>\\r\\n\\t\\t\\t\\t\\t</div>\\r\\n\\t\\t\\t\\t</div>\\r\\n\\t\\t\\t</div>\\r\\n\\t\\t\\t<div id=\"footerDiv\">\\r\\n\\t\\t\\t\\t<!--底部-->\\r\\n\\t\\t\\t\\t<div class=\"footer\">\\r\\n\\t\\t\\t\\t\\t<span>&copy;1999-2010 <a href=\"http://www.zfsoft.com\" target=\"_blank\">杭州正方软件股份有限公司</a>\\r\\n                    <span>版权所有</span>&nbsp;&nbsp;联系电话：0571-89902828</span>\\r\\n\\t\\t\\t\\t</div>\\r\\n\\t\\t\\t\\t<input type=\"text\" id=\"txtTimeStamp\" value=\"\" style=\"display:none\" />\\r\\n\\t\\t\\t\\t\\r\\n\\t\\t\\t\\t<!--底部-->\\r\\n\\t\\t\\t</div>\\r\\n\\t\\t</div>\\r\\n\\t\\t\\r\\n\\t</BODY>\\r\\n</HTML>\\r\\n'"
      ]
     },
     "execution_count": 26,
     "metadata": {},
     "output_type": "execute_result"
    }
   ],
   "source": [
    "jw_loginurl = 'https://cas.gzhu.edu.cn/cas_server/login?service=http%3a%2f%2f202.192.18.183%2fLogin_gzdx.aspx'\n",
    "jwsession = requests.Session()\n",
    "jwsession.headers['User-Agent'] = 'Mozilla/5.0 (Macintosh; Intel Mac OS X 10_9_2) AppleWebKit/537.36 (KHTML, like Gecko) Chrome/34.0.1847.131 Safari/537.36'\n",
    "\n",
    "def get_webflow(response):\n",
    "    '''获得选课页面必须的lt 以及execution参数'''\n",
    "    soup = BeautifulSoup(response.text,'lxml')\n",
    "    lt = soup.find('input',{'name' : 'lt'})['value']\n",
    "    execution = soup.find('input',{'name' : 'execution'})['value']\n",
    "    soup.clear()\n",
    "    return(lt,execution)\n",
    "password = '112233'\n",
    "get_lt = jwsession.get(url = jw_loginurl,timeout = 5)\n",
    "lt, execution = get_webflow(get_lt)\n",
    "postdata = {\n",
    "    'username' : username,\n",
    "    'password' : password,\n",
    "    'lt' : lt,\n",
    "    'execution' : execution,\n",
    "    '_eventId' : 'submit',\n",
    "    'submit' : '登录'\n",
    "}\n",
    "response = jwsession.post(url = jw_loginurl, data = postdata)\n",
    "response.text"
   ]
  },
  {
   "cell_type": "markdown",
   "metadata": {},
   "source": [
    "# 爬取教务网站上的个人信息"
   ]
  },
  {
   "cell_type": "code",
   "execution_count": 27,
   "metadata": {},
   "outputs": [
    {
     "data": {
      "text/plain": [
       "{'birthsday': '19980514',\n",
       " 'classname': '物联171',\n",
       " 'college': '物理与电子工程学院',\n",
       " 'enterSchoolTime': '20170901',\n",
       " 'gradeClass': '2017',\n",
       " 'highschool': '珠海市斗门区第一中学',\n",
       " 'hometown': '湛江遂溪',\n",
       " 'idCardNumber': '440823199805140037',\n",
       " 'major': '物联网工程',\n",
       " 'name': '詹逸',\n",
       " 'nationality': '汉族',\n",
       " 'politicsStatus': '共青团员',\n",
       " 'sex': '男',\n",
       " 'studentnumber': '1719500024'}"
      ]
     },
     "execution_count": 27,
     "metadata": {},
     "output_type": "execute_result"
    }
   ],
   "source": [
    "def get_stuinfo(response):\n",
    "    '''通过解析学生个人信息页面获得学生基本信息'''\n",
    "    html = response.text\n",
    "    soup = BeautifulSoup(html, 'html.parser')\n",
    "    d = {}\n",
    "    d[\"studentnumber\"] = soup.find(id=\"xh\").string\n",
    "    d[\"idCardNumber\"] = soup.find(id=\"lbl_sfzh\").string\n",
    "    d[\"name\"] = soup.find(id=\"xm\").string\n",
    "    d[\"sex\"] = soup.find(id=\"lbl_xb\").string\n",
    "    d[\"enterSchoolTime\"] = soup.find(id=\"lbl_rxrq\").string\n",
    "    d[\"birthsday\"] = soup.find(id=\"lbl_csrq\").string\n",
    "    d[\"highschool\"] = soup.find(id=\"lbl_byzx\").string\n",
    "    d[\"nationality\"] = soup.find(id=\"lbl_mz\").string\n",
    "    d[\"hometown\"] = soup.find(id=\"lbl_jg\").string\n",
    "    d[\"politicsStatus\"] = soup.find(id=\"lbl_zzmm\").string\n",
    "    d[\"college\"] = soup.find(id=\"lbl_xy\").string\n",
    "    d[\"major\"] = soup.find(id=\"lbl_zymc\").string\n",
    "    d[\"classname\"] = soup.find(id=\"lbl_xzb\").string\n",
    "    d[\"gradeClass\"] = soup.find(id=\"lbl_dqszj\").string\n",
    "    return d\n",
    "\n",
    "baseUrl = 'http://202.192.18.184'\n",
    "infourl = \"http://202.192.18.184/xsgrxx.aspx?xh=\"+username+\"&\"#查询个人信息的网址构造\n",
    "jwsession.get(baseUrl)\n",
    "res = jwsession.get(infourl)\n",
    "info = get_stuinfo(res)\n",
    "info"
   ]
  }
 ],
 "metadata": {
  "kernelspec": {
   "display_name": "Python [default]",
   "language": "python",
   "name": "python3"
  },
  "language_info": {
   "codemirror_mode": {
    "name": "ipython",
    "version": 3
   },
   "file_extension": ".py",
   "mimetype": "text/x-python",
   "name": "python",
   "nbconvert_exporter": "python",
   "pygments_lexer": "ipython3",
   "version": "3.6.3"
  }
 },
 "nbformat": 4,
 "nbformat_minor": 2
}
